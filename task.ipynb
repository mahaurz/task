{
 "cells": [
  {
   "cell_type": "code",
   "execution_count": null,
   "id": "b7df3a4c",
   "metadata": {},
   "outputs": [],
   "source": [
    "## importing relevant libraries\n",
    "import pandas as pd\n",
    "import numpy as np\n",
    "import datetime"
   ]
  },
  {
   "cell_type": "code",
   "execution_count": null,
   "id": "af878968",
   "metadata": {},
   "outputs": [],
   "source": [
    "## reading the excel and csv files accordingly, this could be automated using loop if we have more numners of file in folder\n",
    "data1=pd.read_excel(\"AUS.xlsx\")\n",
    "data2=pd.read_csv(\"IND.csv\")\n",
    "data3=pd.read_csv(\"USA.csv\")"
   ]
  },
  {
   "cell_type": "code",
   "execution_count": null,
   "id": "69e9b60b",
   "metadata": {},
   "outputs": [],
   "source": [
    "## adding a country column in each file to differentiate them after combining\n",
    "data1['country']='AUS'\n",
    "data2['country']='IND'\n",
    "data3['country']='USA'"
   ]
  },
  {
   "cell_type": "code",
   "execution_count": null,
   "id": "23a8b283",
   "metadata": {},
   "outputs": [],
   "source": [
    "## as seen in this there was a pattern in date , written in reverse, so extracting year from right with four characters,\n",
    "## similarly done for date and month as well\n",
    "data3['year']=data3.VaccinationDate.astype(str).str[-4:]\n",
    "data3['date']=data3.VaccinationDate.astype(str).str[-6:-4]\n",
    "data3['month']=data3.VaccinationDate.astype(str).str[:-6]\n",
    "data3.month=data3.month.str.zfill(2)\n",
    "data3['VaccinationDate_modified']=data3.year+\"-\"+data3.month+\"-\"+data3.date\n",
    "data3['VaccinationDate']=data3.VaccinationDate_modified\n",
    "data3.drop(columns=['year','date','month','VaccinationDate_modified'],inplace=True)\n",
    "data3.VaccinationDate=pd.to_datetime(data3.VaccinationDate)\n",
    "data3"
   ]
  },
  {
   "cell_type": "code",
   "execution_count": null,
   "id": "bdfcad02",
   "metadata": {},
   "outputs": [],
   "source": [
    "## converting to date format and excluding incoorect date, at large scale this approcah will not be used , i will have to \n",
    "## split month and year and date and check if month lies only between values 1 and 12,\n",
    "## for dates it would be 1 to 31\n",
    "## for year it will in for digit but not greater then 2022\n",
    "## will use to map date and make it or two digit as 2 will not work so will make it 02 , like did in data3\n",
    "data1['A']=pd.to_datetime(data1['Date of Vaccination'],errors='coerce')\n",
    "data1['invalid_date']=np.where(data1.A.isna(),data1['Date of Vaccination'],'')\n",
    "data1['Date of Vaccination']=data1['A']\n",
    "data1.drop(columns=['A'],inplace=True)\n",
    "data1"
   ]
  },
  {
   "cell_type": "code",
   "execution_count": null,
   "id": "f1e7a0c6",
   "metadata": {},
   "outputs": [],
   "source": [
    "## combining data to singlke file by making a few changes in column name\n",
    "data2.VaccinationDate=pd.to_datetime(data2.VaccinationDate)\n",
    "data2.DOB=pd.to_datetime(data2.DOB)\n",
    "data=data1.merge(data2.rename(columns={'ID':'Unique ID','Name':'Patient Name','DOB':'Date of Birth'\n",
    "                                       ,'VaccinationType':'Vaccine Type','VaccinationDate':'Date of Vaccination'}),how='outer')\n",
    "data=data.merge(data3.rename(columns={'ID':'Unique ID','Name':'Patient Name',\n",
    "                                     'VaccinationType':'Vaccine Type','VaccinationDate':'Date of Vaccination'}),how='outer')\n",
    "data"
   ]
  },
  {
   "cell_type": "markdown",
   "id": "8940d65c",
   "metadata": {},
   "source": [
    "### Mectric 1\n",
    "CountryName, VaccinationType, No. of vaccinations"
   ]
  },
  {
   "cell_type": "code",
   "execution_count": null,
   "id": "42a74bf0",
   "metadata": {},
   "outputs": [],
   "source": [
    "vaccine_type_country=pd.DataFrame(data.groupby(['country','Vaccine Type']).count().reset_index())\n",
    "vaccine_type_country=vaccine_type_country[['country','Vaccine Type','Unique ID']]\n",
    "vaccine_type_country"
   ]
  },
  {
   "cell_type": "code",
   "execution_count": null,
   "id": "b6c0c580",
   "metadata": {},
   "outputs": [],
   "source": [
    "for index,row in vaccine_type_country.iterrows():\n",
    "  print(\"In Country\",row[0],\"with Vaccine Type\",row[1],\"the total number of vaccinations given are\",row[2])"
   ]
  },
  {
   "cell_type": "markdown",
   "id": "5bf63929",
   "metadata": {},
   "source": [
    "### Assuming\n",
    "AUS population being 10, IND population being 30 and USA population being 20 and worldwide population being 100"
   ]
  },
  {
   "cell_type": "markdown",
   "id": "18fa777c",
   "metadata": {},
   "source": [
    "### Metric 2 \n",
    "CountryName, % Vaccinated"
   ]
  },
  {
   "cell_type": "code",
   "execution_count": null,
   "id": "c427d116",
   "metadata": {},
   "outputs": [],
   "source": [
    "percentage_vaccine=data.copy()\n",
    "percentage_vaccine=pd.DataFrame(percentage_vaccine.groupby(['country']).count().reset_index())\n",
    "percentage_vaccine=percentage_vaccine[['country','Unique ID']]\n",
    "percentage_vaccine['percentage_of_people_vaccinated']=np.where(percentage_vaccine.country=='AUS',percentage_vaccine['Unique ID']/10,\n",
    "                                                              np.where(percentage_vaccine.country=='IND',percentage_vaccine['Unique ID']/30,\n",
    "                                                                      percentage_vaccine['Unique ID']/20))\n",
    "percentage_vaccine['percentage_of_people_vaccinated']=round((percentage_vaccine['percentage_of_people_vaccinated']*100),2).astype(str)+\"%\"\n",
    "percentage_vaccine.drop(columns=['Unique ID'],inplace=True)\n",
    "percentage_vaccine"
   ]
  },
  {
   "cell_type": "code",
   "execution_count": null,
   "id": "76e2a35a",
   "metadata": {},
   "outputs": [],
   "source": [
    "for index,row in percentage_vaccine.iterrows():\n",
    "  print(\"In Country\",row[0],\"percentage of vaccinated people are\",row[1])"
   ]
  },
  {
   "cell_type": "markdown",
   "id": "372fa76b",
   "metadata": {},
   "source": [
    "### Metric 3\n",
    "CountryName, % Contribution"
   ]
  },
  {
   "cell_type": "code",
   "execution_count": null,
   "id": "7d3928c1",
   "metadata": {},
   "outputs": [],
   "source": [
    "world_level_vaccine=data.copy()\n",
    "world_level_vaccine=pd.DataFrame(world_level_vaccine.groupby(['country']).count().reset_index())\n",
    "world_level_vaccine=world_level_vaccine[['country','Unique ID']]\n",
    "world_level_vaccine['world_level_percentage']=(round(world_level_vaccine['Unique ID']/100,2)*100).astype(str)+\"%\"\n",
    "world_level_vaccine=world_level_vaccine[['country','world_level_percentage']]\n",
    "world_level_vaccine"
   ]
  },
  {
   "cell_type": "code",
   "execution_count": null,
   "id": "cf0263aa",
   "metadata": {},
   "outputs": [],
   "source": [
    "for index,row in world_level_vaccine.iterrows():\n",
    "  print(\"In Country\",row[0],\"percentage of vaccinated people with respect to population of world\",row[1])"
   ]
  },
  {
   "cell_type": "code",
   "execution_count": null,
   "id": "4a633def",
   "metadata": {},
   "outputs": [],
   "source": [
    "total_among_all_three_countries_people_vaccinated=((data['Unique ID'].count()/100)*100).astype(str)+\"%\"\n",
    "print('total number of people vaccinated with respect to world among all these three countries are : ',total_among_all_three_countries_people_vaccinated)"
   ]
  },
  {
   "cell_type": "code",
   "execution_count": null,
   "id": "d388547f",
   "metadata": {},
   "outputs": [],
   "source": []
  }
 ],
 "metadata": {
  "kernelspec": {
   "display_name": "Python 3 (ipykernel)",
   "language": "python",
   "name": "python3"
  },
  "language_info": {
   "codemirror_mode": {
    "name": "ipython",
    "version": 3
   },
   "file_extension": ".py",
   "mimetype": "text/x-python",
   "name": "python",
   "nbconvert_exporter": "python",
   "pygments_lexer": "ipython3",
   "version": "3.9.12"
  }
 },
 "nbformat": 4,
 "nbformat_minor": 5
}
