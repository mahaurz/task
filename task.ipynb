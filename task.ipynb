{
 "cells": [
  {
   "cell_type": "code",
   "execution_count": 1,
   "id": "f7e69e5e",
   "metadata": {},
   "outputs": [],
   "source": [
    "## importing relevant libraries\n",
    "import pandas as pd\n",
    "import numpy as np\n",
    "import datetime"
   ]
  },
  {
   "cell_type": "code",
   "execution_count": 2,
   "id": "e13da33c",
   "metadata": {},
   "outputs": [],
   "source": [
    "## reading the excel and csv files accordingly, this could be automated using loop if we have more numners of file in folder\n",
    "data1=pd.read_excel(\"AUS.xlsx\")\n",
    "data2=pd.read_csv(\"IND.csv\")\n",
    "data3=pd.read_csv(\"USA.csv\")"
   ]
  },
  {
   "cell_type": "code",
   "execution_count": 3,
   "id": "0e54aef4",
   "metadata": {},
   "outputs": [],
   "source": [
    "## adding a country column in each file to differentiate them after combining\n",
    "data1['country']='AUS'\n",
    "data2['country']='IND'\n",
    "data3['country']='USA'"
   ]
  },
  {
   "cell_type": "code",
   "execution_count": 4,
   "id": "f7c6d525",
   "metadata": {},
   "outputs": [
    {
     "data": {
      "text/html": [
       "<div>\n",
       "<style scoped>\n",
       "    .dataframe tbody tr th:only-of-type {\n",
       "        vertical-align: middle;\n",
       "    }\n",
       "\n",
       "    .dataframe tbody tr th {\n",
       "        vertical-align: top;\n",
       "    }\n",
       "\n",
       "    .dataframe thead th {\n",
       "        text-align: right;\n",
       "    }\n",
       "</style>\n",
       "<table border=\"1\" class=\"dataframe\">\n",
       "  <thead>\n",
       "    <tr style=\"text-align: right;\">\n",
       "      <th></th>\n",
       "      <th>ID</th>\n",
       "      <th>Name</th>\n",
       "      <th>VaccinationType</th>\n",
       "      <th>VaccinationDate</th>\n",
       "      <th>country</th>\n",
       "    </tr>\n",
       "  </thead>\n",
       "  <tbody>\n",
       "    <tr>\n",
       "      <th>0</th>\n",
       "      <td>1</td>\n",
       "      <td>Sam</td>\n",
       "      <td>EFG</td>\n",
       "      <td>2022-06-15</td>\n",
       "      <td>USA</td>\n",
       "    </tr>\n",
       "    <tr>\n",
       "      <th>1</th>\n",
       "      <td>2</td>\n",
       "      <td>John</td>\n",
       "      <td>XYZ</td>\n",
       "      <td>2022-01-05</td>\n",
       "      <td>USA</td>\n",
       "    </tr>\n",
       "    <tr>\n",
       "      <th>2</th>\n",
       "      <td>3</td>\n",
       "      <td>Mike</td>\n",
       "      <td>ABC</td>\n",
       "      <td>2021-12-28</td>\n",
       "      <td>USA</td>\n",
       "    </tr>\n",
       "  </tbody>\n",
       "</table>\n",
       "</div>"
      ],
      "text/plain": [
       "   ID  Name VaccinationType VaccinationDate country\n",
       "0   1   Sam             EFG      2022-06-15     USA\n",
       "1   2  John             XYZ      2022-01-05     USA\n",
       "2   3  Mike             ABC      2021-12-28     USA"
      ]
     },
     "execution_count": 4,
     "metadata": {},
     "output_type": "execute_result"
    }
   ],
   "source": [
    "## as seen in this there was a pattern in date , written in reverse, so extracting year from right with four characters,\n",
    "## similarly done for date and month as well\n",
    "data3['year']=data3.VaccinationDate.astype(str).str[-4:]\n",
    "data3['date']=data3.VaccinationDate.astype(str).str[-6:-4]\n",
    "data3['month']=data3.VaccinationDate.astype(str).str[:-6]\n",
    "data3.month=data3.month.str.zfill(2)\n",
    "data3['VaccinationDate_modified']=data3.year+\"-\"+data3.month+\"-\"+data3.date\n",
    "data3['VaccinationDate']=data3.VaccinationDate_modified\n",
    "data3.drop(columns=['year','date','month','VaccinationDate_modified'],inplace=True)\n",
    "data3.VaccinationDate=pd.to_datetime(data3.VaccinationDate)\n",
    "data3"
   ]
  },
  {
   "cell_type": "code",
   "execution_count": 5,
   "id": "794cf7fc",
   "metadata": {},
   "outputs": [
    {
     "data": {
      "text/html": [
       "<div>\n",
       "<style scoped>\n",
       "    .dataframe tbody tr th:only-of-type {\n",
       "        vertical-align: middle;\n",
       "    }\n",
       "\n",
       "    .dataframe tbody tr th {\n",
       "        vertical-align: top;\n",
       "    }\n",
       "\n",
       "    .dataframe thead th {\n",
       "        text-align: right;\n",
       "    }\n",
       "</style>\n",
       "<table border=\"1\" class=\"dataframe\">\n",
       "  <thead>\n",
       "    <tr style=\"text-align: right;\">\n",
       "      <th></th>\n",
       "      <th>Unique ID</th>\n",
       "      <th>Patient Name</th>\n",
       "      <th>Vaccine Type</th>\n",
       "      <th>Date of Birth</th>\n",
       "      <th>Date of Vaccination</th>\n",
       "      <th>country</th>\n",
       "      <th>invalid_date</th>\n",
       "    </tr>\n",
       "  </thead>\n",
       "  <tbody>\n",
       "    <tr>\n",
       "      <th>0</th>\n",
       "      <td>1</td>\n",
       "      <td>Mike</td>\n",
       "      <td>LMN</td>\n",
       "      <td>NaT</td>\n",
       "      <td>2022-05-11</td>\n",
       "      <td>AUS</td>\n",
       "      <td></td>\n",
       "    </tr>\n",
       "    <tr>\n",
       "      <th>1</th>\n",
       "      <td>2</td>\n",
       "      <td>Jonnathan</td>\n",
       "      <td>XYZ</td>\n",
       "      <td>1997-12-13</td>\n",
       "      <td>NaT</td>\n",
       "      <td>AUS</td>\n",
       "      <td>2021-13-13</td>\n",
       "    </tr>\n",
       "    <tr>\n",
       "      <th>2</th>\n",
       "      <td>3</td>\n",
       "      <td>Cristina</td>\n",
       "      <td>ABC</td>\n",
       "      <td>1998-03-12</td>\n",
       "      <td>2022-03-12</td>\n",
       "      <td>AUS</td>\n",
       "      <td></td>\n",
       "    </tr>\n",
       "  </tbody>\n",
       "</table>\n",
       "</div>"
      ],
      "text/plain": [
       "   Unique ID Patient Name Vaccine Type Date of Birth Date of Vaccination  \\\n",
       "0          1         Mike          LMN           NaT          2022-05-11   \n",
       "1          2    Jonnathan          XYZ    1997-12-13                 NaT   \n",
       "2          3     Cristina          ABC    1998-03-12          2022-03-12   \n",
       "\n",
       "  country invalid_date  \n",
       "0     AUS               \n",
       "1     AUS   2021-13-13  \n",
       "2     AUS               "
      ]
     },
     "execution_count": 5,
     "metadata": {},
     "output_type": "execute_result"
    }
   ],
   "source": [
    "## converting to date format and excluding incoorect date, at large scale this approcah will not be used , i will have to \n",
    "## split month and year and date and check if month lies only between values 1 and 12,\n",
    "## for dates it would be 1 to 31\n",
    "## for year it will in for digit but not greater then 2022\n",
    "## will use to map date and make it or two digit as 2 will not work so will make it 02 , like did in data3\n",
    "data1['A']=pd.to_datetime(data1['Date of Vaccination'],errors='coerce')\n",
    "data1['invalid_date']=np.where(data1.A.isna(),data1['Date of Vaccination'],'')\n",
    "data1['Date of Vaccination']=data1['A']\n",
    "data1.drop(columns=['A'],inplace=True)\n",
    "data1"
   ]
  },
  {
   "cell_type": "code",
   "execution_count": 6,
   "id": "7d5bcdb7",
   "metadata": {},
   "outputs": [
    {
     "data": {
      "text/html": [
       "<div>\n",
       "<style scoped>\n",
       "    .dataframe tbody tr th:only-of-type {\n",
       "        vertical-align: middle;\n",
       "    }\n",
       "\n",
       "    .dataframe tbody tr th {\n",
       "        vertical-align: top;\n",
       "    }\n",
       "\n",
       "    .dataframe thead th {\n",
       "        text-align: right;\n",
       "    }\n",
       "</style>\n",
       "<table border=\"1\" class=\"dataframe\">\n",
       "  <thead>\n",
       "    <tr style=\"text-align: right;\">\n",
       "      <th></th>\n",
       "      <th>Unique ID</th>\n",
       "      <th>Patient Name</th>\n",
       "      <th>Vaccine Type</th>\n",
       "      <th>Date of Birth</th>\n",
       "      <th>Date of Vaccination</th>\n",
       "      <th>country</th>\n",
       "      <th>invalid_date</th>\n",
       "      <th>Free or Paid</th>\n",
       "    </tr>\n",
       "  </thead>\n",
       "  <tbody>\n",
       "    <tr>\n",
       "      <th>0</th>\n",
       "      <td>1</td>\n",
       "      <td>Mike</td>\n",
       "      <td>LMN</td>\n",
       "      <td>NaT</td>\n",
       "      <td>2022-05-11</td>\n",
       "      <td>AUS</td>\n",
       "      <td></td>\n",
       "      <td>NaN</td>\n",
       "    </tr>\n",
       "    <tr>\n",
       "      <th>1</th>\n",
       "      <td>2</td>\n",
       "      <td>Jonnathan</td>\n",
       "      <td>XYZ</td>\n",
       "      <td>1997-12-13</td>\n",
       "      <td>NaT</td>\n",
       "      <td>AUS</td>\n",
       "      <td>2021-13-13</td>\n",
       "      <td>NaN</td>\n",
       "    </tr>\n",
       "    <tr>\n",
       "      <th>2</th>\n",
       "      <td>3</td>\n",
       "      <td>Cristina</td>\n",
       "      <td>ABC</td>\n",
       "      <td>1998-03-12</td>\n",
       "      <td>2022-03-12</td>\n",
       "      <td>AUS</td>\n",
       "      <td></td>\n",
       "      <td>NaN</td>\n",
       "    </tr>\n",
       "    <tr>\n",
       "      <th>3</th>\n",
       "      <td>1</td>\n",
       "      <td>Vikas</td>\n",
       "      <td>XYZ</td>\n",
       "      <td>1998-12-01</td>\n",
       "      <td>2022-01-01</td>\n",
       "      <td>IND</td>\n",
       "      <td>NaN</td>\n",
       "      <td>F</td>\n",
       "    </tr>\n",
       "    <tr>\n",
       "      <th>4</th>\n",
       "      <td>2</td>\n",
       "      <td>Rahul</td>\n",
       "      <td>ABC</td>\n",
       "      <td>1982-08-13</td>\n",
       "      <td>2022-03-05</td>\n",
       "      <td>IND</td>\n",
       "      <td>NaN</td>\n",
       "      <td>P</td>\n",
       "    </tr>\n",
       "    <tr>\n",
       "      <th>5</th>\n",
       "      <td>3</td>\n",
       "      <td>Sameer</td>\n",
       "      <td>ABC</td>\n",
       "      <td>1952-08-13</td>\n",
       "      <td>2022-02-20</td>\n",
       "      <td>IND</td>\n",
       "      <td>NaN</td>\n",
       "      <td>F</td>\n",
       "    </tr>\n",
       "    <tr>\n",
       "      <th>6</th>\n",
       "      <td>1</td>\n",
       "      <td>Sam</td>\n",
       "      <td>EFG</td>\n",
       "      <td>NaT</td>\n",
       "      <td>2022-06-15</td>\n",
       "      <td>USA</td>\n",
       "      <td>NaN</td>\n",
       "      <td>NaN</td>\n",
       "    </tr>\n",
       "    <tr>\n",
       "      <th>7</th>\n",
       "      <td>2</td>\n",
       "      <td>John</td>\n",
       "      <td>XYZ</td>\n",
       "      <td>NaT</td>\n",
       "      <td>2022-01-05</td>\n",
       "      <td>USA</td>\n",
       "      <td>NaN</td>\n",
       "      <td>NaN</td>\n",
       "    </tr>\n",
       "    <tr>\n",
       "      <th>8</th>\n",
       "      <td>3</td>\n",
       "      <td>Mike</td>\n",
       "      <td>ABC</td>\n",
       "      <td>NaT</td>\n",
       "      <td>2021-12-28</td>\n",
       "      <td>USA</td>\n",
       "      <td>NaN</td>\n",
       "      <td>NaN</td>\n",
       "    </tr>\n",
       "  </tbody>\n",
       "</table>\n",
       "</div>"
      ],
      "text/plain": [
       "   Unique ID Patient Name Vaccine Type Date of Birth Date of Vaccination  \\\n",
       "0          1         Mike          LMN           NaT          2022-05-11   \n",
       "1          2    Jonnathan          XYZ    1997-12-13                 NaT   \n",
       "2          3     Cristina          ABC    1998-03-12          2022-03-12   \n",
       "3          1        Vikas          XYZ    1998-12-01          2022-01-01   \n",
       "4          2        Rahul          ABC    1982-08-13          2022-03-05   \n",
       "5          3       Sameer          ABC    1952-08-13          2022-02-20   \n",
       "6          1          Sam          EFG           NaT          2022-06-15   \n",
       "7          2         John          XYZ           NaT          2022-01-05   \n",
       "8          3         Mike          ABC           NaT          2021-12-28   \n",
       "\n",
       "  country invalid_date Free or Paid  \n",
       "0     AUS                       NaN  \n",
       "1     AUS   2021-13-13          NaN  \n",
       "2     AUS                       NaN  \n",
       "3     IND          NaN            F  \n",
       "4     IND          NaN            P  \n",
       "5     IND          NaN            F  \n",
       "6     USA          NaN          NaN  \n",
       "7     USA          NaN          NaN  \n",
       "8     USA          NaN          NaN  "
      ]
     },
     "execution_count": 6,
     "metadata": {},
     "output_type": "execute_result"
    }
   ],
   "source": [
    "## combining data to singlke file by making a few changes in column name\n",
    "data2.VaccinationDate=pd.to_datetime(data2.VaccinationDate)\n",
    "data2.DOB=pd.to_datetime(data2.DOB)\n",
    "data=data1.merge(data2.rename(columns={'ID':'Unique ID','Name':'Patient Name','DOB':'Date of Birth'\n",
    "                                       ,'VaccinationType':'Vaccine Type','VaccinationDate':'Date of Vaccination'}),how='outer')\n",
    "data=data.merge(data3.rename(columns={'ID':'Unique ID','Name':'Patient Name',\n",
    "                                     'VaccinationType':'Vaccine Type','VaccinationDate':'Date of Vaccination'}),how='outer')\n",
    "data"
   ]
  },
  {
   "cell_type": "markdown",
   "id": "4f308ee3",
   "metadata": {},
   "source": [
    "### Mectric 1\n",
    "CountryName, VaccinationType, No. of vaccinations"
   ]
  },
  {
   "cell_type": "code",
   "execution_count": 7,
   "id": "cb59a028",
   "metadata": {},
   "outputs": [
    {
     "data": {
      "text/html": [
       "<div>\n",
       "<style scoped>\n",
       "    .dataframe tbody tr th:only-of-type {\n",
       "        vertical-align: middle;\n",
       "    }\n",
       "\n",
       "    .dataframe tbody tr th {\n",
       "        vertical-align: top;\n",
       "    }\n",
       "\n",
       "    .dataframe thead th {\n",
       "        text-align: right;\n",
       "    }\n",
       "</style>\n",
       "<table border=\"1\" class=\"dataframe\">\n",
       "  <thead>\n",
       "    <tr style=\"text-align: right;\">\n",
       "      <th></th>\n",
       "      <th>country</th>\n",
       "      <th>Vaccine Type</th>\n",
       "      <th>Unique ID</th>\n",
       "    </tr>\n",
       "  </thead>\n",
       "  <tbody>\n",
       "    <tr>\n",
       "      <th>0</th>\n",
       "      <td>AUS</td>\n",
       "      <td>ABC</td>\n",
       "      <td>1</td>\n",
       "    </tr>\n",
       "    <tr>\n",
       "      <th>1</th>\n",
       "      <td>AUS</td>\n",
       "      <td>LMN</td>\n",
       "      <td>1</td>\n",
       "    </tr>\n",
       "    <tr>\n",
       "      <th>2</th>\n",
       "      <td>AUS</td>\n",
       "      <td>XYZ</td>\n",
       "      <td>1</td>\n",
       "    </tr>\n",
       "    <tr>\n",
       "      <th>3</th>\n",
       "      <td>IND</td>\n",
       "      <td>ABC</td>\n",
       "      <td>2</td>\n",
       "    </tr>\n",
       "    <tr>\n",
       "      <th>4</th>\n",
       "      <td>IND</td>\n",
       "      <td>XYZ</td>\n",
       "      <td>1</td>\n",
       "    </tr>\n",
       "    <tr>\n",
       "      <th>5</th>\n",
       "      <td>USA</td>\n",
       "      <td>ABC</td>\n",
       "      <td>1</td>\n",
       "    </tr>\n",
       "    <tr>\n",
       "      <th>6</th>\n",
       "      <td>USA</td>\n",
       "      <td>EFG</td>\n",
       "      <td>1</td>\n",
       "    </tr>\n",
       "    <tr>\n",
       "      <th>7</th>\n",
       "      <td>USA</td>\n",
       "      <td>XYZ</td>\n",
       "      <td>1</td>\n",
       "    </tr>\n",
       "  </tbody>\n",
       "</table>\n",
       "</div>"
      ],
      "text/plain": [
       "  country Vaccine Type  Unique ID\n",
       "0     AUS          ABC          1\n",
       "1     AUS          LMN          1\n",
       "2     AUS          XYZ          1\n",
       "3     IND          ABC          2\n",
       "4     IND          XYZ          1\n",
       "5     USA          ABC          1\n",
       "6     USA          EFG          1\n",
       "7     USA          XYZ          1"
      ]
     },
     "execution_count": 7,
     "metadata": {},
     "output_type": "execute_result"
    }
   ],
   "source": [
    "vaccine_type_country=pd.DataFrame(data.groupby(['country','Vaccine Type']).count().reset_index())\n",
    "vaccine_type_country=vaccine_type_country[['country','Vaccine Type','Unique ID']]\n",
    "vaccine_type_country"
   ]
  },
  {
   "cell_type": "code",
   "execution_count": 8,
   "id": "c115d6a8",
   "metadata": {},
   "outputs": [
    {
     "name": "stdout",
     "output_type": "stream",
     "text": [
      "In Country AUS with Vaccine Type ABC the total number of vaccinations given are 1\n",
      "In Country AUS with Vaccine Type LMN the total number of vaccinations given are 1\n",
      "In Country AUS with Vaccine Type XYZ the total number of vaccinations given are 1\n",
      "In Country IND with Vaccine Type ABC the total number of vaccinations given are 2\n",
      "In Country IND with Vaccine Type XYZ the total number of vaccinations given are 1\n",
      "In Country USA with Vaccine Type ABC the total number of vaccinations given are 1\n",
      "In Country USA with Vaccine Type EFG the total number of vaccinations given are 1\n",
      "In Country USA with Vaccine Type XYZ the total number of vaccinations given are 1\n"
     ]
    }
   ],
   "source": [
    "for index,row in vaccine_type_country.iterrows():\n",
    "  print(\"In Country\",row[0],\"with Vaccine Type\",row[1],\"the total number of vaccinations given are\",row[2])"
   ]
  },
  {
   "cell_type": "markdown",
   "id": "6194e273",
   "metadata": {},
   "source": [
    "### Assuming\n",
    "AUS population being 10, IND population being 30 and USA population being 20 and worldwide population being 100"
   ]
  },
  {
   "cell_type": "markdown",
   "id": "bb4cc9fe",
   "metadata": {},
   "source": [
    "### Metric 2 \n",
    "CountryName, % Vaccinated"
   ]
  },
  {
   "cell_type": "code",
   "execution_count": 9,
   "id": "756278b5",
   "metadata": {},
   "outputs": [
    {
     "data": {
      "text/html": [
       "<div>\n",
       "<style scoped>\n",
       "    .dataframe tbody tr th:only-of-type {\n",
       "        vertical-align: middle;\n",
       "    }\n",
       "\n",
       "    .dataframe tbody tr th {\n",
       "        vertical-align: top;\n",
       "    }\n",
       "\n",
       "    .dataframe thead th {\n",
       "        text-align: right;\n",
       "    }\n",
       "</style>\n",
       "<table border=\"1\" class=\"dataframe\">\n",
       "  <thead>\n",
       "    <tr style=\"text-align: right;\">\n",
       "      <th></th>\n",
       "      <th>country</th>\n",
       "      <th>percentage_of_people_vaccinated</th>\n",
       "    </tr>\n",
       "  </thead>\n",
       "  <tbody>\n",
       "    <tr>\n",
       "      <th>0</th>\n",
       "      <td>AUS</td>\n",
       "      <td>30.0%</td>\n",
       "    </tr>\n",
       "    <tr>\n",
       "      <th>1</th>\n",
       "      <td>IND</td>\n",
       "      <td>10.0%</td>\n",
       "    </tr>\n",
       "    <tr>\n",
       "      <th>2</th>\n",
       "      <td>USA</td>\n",
       "      <td>15.0%</td>\n",
       "    </tr>\n",
       "  </tbody>\n",
       "</table>\n",
       "</div>"
      ],
      "text/plain": [
       "  country percentage_of_people_vaccinated\n",
       "0     AUS                           30.0%\n",
       "1     IND                           10.0%\n",
       "2     USA                           15.0%"
      ]
     },
     "execution_count": 9,
     "metadata": {},
     "output_type": "execute_result"
    }
   ],
   "source": [
    "percentage_vaccine=data.copy()\n",
    "percentage_vaccine=pd.DataFrame(percentage_vaccine.groupby(['country']).count().reset_index())\n",
    "percentage_vaccine=percentage_vaccine[['country','Unique ID']]\n",
    "percentage_vaccine['percentage_of_people_vaccinated']=np.where(percentage_vaccine.country=='AUS',percentage_vaccine['Unique ID']/10,\n",
    "                                                              np.where(percentage_vaccine.country=='IND',percentage_vaccine['Unique ID']/30,\n",
    "                                                                      percentage_vaccine['Unique ID']/20))\n",
    "percentage_vaccine['percentage_of_people_vaccinated']=round((percentage_vaccine['percentage_of_people_vaccinated']*100),2).astype(str)+\"%\"\n",
    "percentage_vaccine.drop(columns=['Unique ID'],inplace=True)\n",
    "percentage_vaccine"
   ]
  },
  {
   "cell_type": "code",
   "execution_count": 10,
   "id": "c9c4d64f",
   "metadata": {},
   "outputs": [
    {
     "name": "stdout",
     "output_type": "stream",
     "text": [
      "In Country AUS percentage of vaccinated people are 30.0%\n",
      "In Country IND percentage of vaccinated people are 10.0%\n",
      "In Country USA percentage of vaccinated people are 15.0%\n"
     ]
    }
   ],
   "source": [
    "for index,row in percentage_vaccine.iterrows():\n",
    "  print(\"In Country\",row[0],\"percentage of vaccinated people are\",row[1])"
   ]
  },
  {
   "cell_type": "markdown",
   "id": "9c94d25a",
   "metadata": {},
   "source": [
    "### Metric 3\n",
    "CountryName, % Contribution"
   ]
  },
  {
   "cell_type": "code",
   "execution_count": 11,
   "id": "1d7596b3",
   "metadata": {},
   "outputs": [
    {
     "data": {
      "text/html": [
       "<div>\n",
       "<style scoped>\n",
       "    .dataframe tbody tr th:only-of-type {\n",
       "        vertical-align: middle;\n",
       "    }\n",
       "\n",
       "    .dataframe tbody tr th {\n",
       "        vertical-align: top;\n",
       "    }\n",
       "\n",
       "    .dataframe thead th {\n",
       "        text-align: right;\n",
       "    }\n",
       "</style>\n",
       "<table border=\"1\" class=\"dataframe\">\n",
       "  <thead>\n",
       "    <tr style=\"text-align: right;\">\n",
       "      <th></th>\n",
       "      <th>country</th>\n",
       "      <th>world_level_percentage</th>\n",
       "    </tr>\n",
       "  </thead>\n",
       "  <tbody>\n",
       "    <tr>\n",
       "      <th>0</th>\n",
       "      <td>AUS</td>\n",
       "      <td>3.0%</td>\n",
       "    </tr>\n",
       "    <tr>\n",
       "      <th>1</th>\n",
       "      <td>IND</td>\n",
       "      <td>3.0%</td>\n",
       "    </tr>\n",
       "    <tr>\n",
       "      <th>2</th>\n",
       "      <td>USA</td>\n",
       "      <td>3.0%</td>\n",
       "    </tr>\n",
       "  </tbody>\n",
       "</table>\n",
       "</div>"
      ],
      "text/plain": [
       "  country world_level_percentage\n",
       "0     AUS                   3.0%\n",
       "1     IND                   3.0%\n",
       "2     USA                   3.0%"
      ]
     },
     "execution_count": 11,
     "metadata": {},
     "output_type": "execute_result"
    }
   ],
   "source": [
    "world_level_vaccine=data.copy()\n",
    "world_level_vaccine=pd.DataFrame(world_level_vaccine.groupby(['country']).count().reset_index())\n",
    "world_level_vaccine=world_level_vaccine[['country','Unique ID']]\n",
    "world_level_vaccine['world_level_percentage']=(round(world_level_vaccine['Unique ID']/100,2)*100).astype(str)+\"%\"\n",
    "world_level_vaccine=world_level_vaccine[['country','world_level_percentage']]\n",
    "world_level_vaccine"
   ]
  },
  {
   "cell_type": "code",
   "execution_count": 12,
   "id": "6d5b1fb8",
   "metadata": {},
   "outputs": [
    {
     "name": "stdout",
     "output_type": "stream",
     "text": [
      "In Country AUS percentage of vaccinated people with respect to population of world 3.0%\n",
      "In Country IND percentage of vaccinated people with respect to population of world 3.0%\n",
      "In Country USA percentage of vaccinated people with respect to population of world 3.0%\n"
     ]
    }
   ],
   "source": [
    "for index,row in world_level_vaccine.iterrows():\n",
    "  print(\"In Country\",row[0],\"percentage of vaccinated people with respect to population of world\",row[1])"
   ]
  },
  {
   "cell_type": "code",
   "execution_count": 13,
   "id": "85083313",
   "metadata": {},
   "outputs": [
    {
     "name": "stdout",
     "output_type": "stream",
     "text": [
      "total number of people vaccinated with respect to world among all these three countries are :  9.0%\n"
     ]
    }
   ],
   "source": [
    "total_among_all_three_countries_people_vaccinated=((data['Unique ID'].count()/100)*100).astype(str)+\"%\"\n",
    "print('total number of people vaccinated with respect to world among all these three countries are : ',total_among_all_three_countries_people_vaccinated)"
   ]
  },
  {
   "cell_type": "code",
   "execution_count": null,
   "id": "ebd850a3",
   "metadata": {},
   "outputs": [],
   "source": []
  }
 ],
 "metadata": {
  "kernelspec": {
   "display_name": "Python 3 (ipykernel)",
   "language": "python",
   "name": "python3"
  },
  "language_info": {
   "codemirror_mode": {
    "name": "ipython",
    "version": 3
   },
   "file_extension": ".py",
   "mimetype": "text/x-python",
   "name": "python",
   "nbconvert_exporter": "python",
   "pygments_lexer": "ipython3",
   "version": "3.9.12"
  }
 },
 "nbformat": 4,
 "nbformat_minor": 5
}
